{
 "cells": [
  {
   "cell_type": "code",
   "execution_count": 14,
   "id": "4aa40e37",
   "metadata": {},
   "outputs": [],
   "source": [
    "import pandas as pd\n",
    "import numpy as np"
   ]
  },
  {
   "cell_type": "code",
   "execution_count": 63,
   "id": "b6ecb9f7",
   "metadata": {},
   "outputs": [],
   "source": [
    "def parseline(line):\n",
    "    ll=line[2:-1].split()\n",
    "    return [float(i) for i in ll]\n",
    "\n",
    "dta = []\n",
    "with open(\"COM_PowerSpect_CMB-TT-full_R3.01.txt\") as f:\n",
    "    newline=f.readline()\n",
    "    newline=f.readline()\n",
    "    while newline:\n",
    "        dta.append(parseline(newline))\n",
    "        newline = f.readline()\n",
    "for line in dta:\n",
    "    if len(line)!=4:\n",
    "        print(line)\n",
    "dta=np.array(dta)\n",
    "\n"
   ]
  },
  {
   "cell_type": "code",
   "execution_count": null,
   "id": "96f197c6",
   "metadata": {},
   "outputs": [],
   "source": [
    "dm_idx = dta[:,0].astype(\"int\")     # dipole moment number\n",
    "dm_val = dta[:,1]                   # dipole value \n",
    "dm_err = (dta[:,2] + dta[:,3])*0.5  # dipole error"
   ]
  },
  {
   "cell_type": "code",
   "execution_count": null,
   "id": "9f5ce858",
   "metadata": {},
   "outputs": [],
   "source": []
  },
  {
   "cell_type": "code",
   "execution_count": null,
   "id": "a47360a1",
   "metadata": {},
   "outputs": [],
   "source": []
  },
  {
   "cell_type": "code",
   "execution_count": null,
   "id": "5889185f",
   "metadata": {},
   "outputs": [],
   "source": []
  },
  {
   "cell_type": "code",
   "execution_count": null,
   "id": "b566e148",
   "metadata": {},
   "outputs": [],
   "source": []
  },
  {
   "cell_type": "code",
   "execution_count": null,
   "id": "1164ace4",
   "metadata": {},
   "outputs": [],
   "source": []
  },
  {
   "cell_type": "code",
   "execution_count": null,
   "id": "f37efc14",
   "metadata": {},
   "outputs": [],
   "source": []
  },
  {
   "cell_type": "code",
   "execution_count": null,
   "id": "cc2c5937",
   "metadata": {},
   "outputs": [],
   "source": []
  }
 ],
 "metadata": {
  "kernelspec": {
   "display_name": "Python 3 (ipykernel)",
   "language": "python",
   "name": "python3"
  },
  "language_info": {
   "codemirror_mode": {
    "name": "ipython",
    "version": 3
   },
   "file_extension": ".py",
   "mimetype": "text/x-python",
   "name": "python",
   "nbconvert_exporter": "python",
   "pygments_lexer": "ipython3",
   "version": "3.9.5"
  }
 },
 "nbformat": 4,
 "nbformat_minor": 5
}
